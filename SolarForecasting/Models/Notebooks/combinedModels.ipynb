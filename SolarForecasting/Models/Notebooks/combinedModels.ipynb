{
 "cells": [
  {
   "cell_type": "code",
   "execution_count": 1,
   "id": "7591eaf3",
   "metadata": {},
   "outputs": [],
   "source": [
    "from keras.models import load_model"
   ]
  },
  {
   "cell_type": "code",
   "execution_count": 2,
   "id": "d7b6c882",
   "metadata": {},
   "outputs": [
    {
     "name": "stderr",
     "output_type": "stream",
     "text": [
      "WARNING:absl:At this time, the v2.11+ optimizer `tf.keras.optimizers.RestoredOptimizer` runs slowly on M1/M2 Macs, please use the legacy Keras optimizer instead, located at `tf.keras.optimizers.legacy.RestoredOptimizer`.\n",
      "WARNING:absl:At this time, the v2.11+ optimizer `tf.keras.optimizers.Adam` runs slowly on M1/M2 Macs, please use the legacy Keras optimizer instead, located at `tf.keras.optimizers.legacy.Adam`.\n"
     ]
    }
   ],
   "source": [
    "LSTMModel = load_model('/Users/shalikanuwan/Documents/Academics/FYP/ForecastingModelDevelopment/solarModel2/ 24- 0.0019.ckpt')"
   ]
  },
  {
   "cell_type": "code",
   "execution_count": 3,
   "id": "47b5bdd0",
   "metadata": {},
   "outputs": [],
   "source": [
    "import pandas as pd\n",
    "data = pd.read_excel('/Users/shalikanuwan/Documents/Academics/FYP/ForecastingModelDevelopment/SolarForecasting/Data/filterdSolarGenerationUOM.xlsx')"
   ]
  },
  {
   "cell_type": "code",
   "execution_count": 4,
   "id": "e865f70f",
   "metadata": {},
   "outputs": [],
   "source": [
    "test_data = data.tail(5274)"
   ]
  },
  {
   "cell_type": "code",
   "execution_count": 5,
   "id": "79afe967",
   "metadata": {},
   "outputs": [],
   "source": [
    "import numpy as np\n",
    "\n",
    "def dataSequence(df,window_size, step_size, forecast_horizon):\n",
    "    generation = df['Adjusted_Generation'].values\n",
    "    solar_irr = df['solarradiation'].values\n",
    "    num_samples = len(generation)\n",
    "    X = []\n",
    "    y = []\n",
    "\n",
    "    for start in range(0, num_samples - window_size - forecast_horizon + 1, step_size):\n",
    "        end = start + window_size\n",
    "        forecast_end = end + forecast_horizon\n",
    "        window_dem = generation[start:end-1]\n",
    "        window_irr = solar_irr[start:end-1]\n",
    "        X.append([window_dem,window_irr])\n",
    "        y.append(generation[end-1:forecast_end-1])  \n",
    "\n",
    "    return np.array(X), np.array(y)"
   ]
  },
  {
   "cell_type": "code",
   "execution_count": 6,
   "id": "c52adf65",
   "metadata": {},
   "outputs": [
    {
     "data": {
      "text/html": [
       "<div>\n",
       "<style scoped>\n",
       "    .dataframe tbody tr th:only-of-type {\n",
       "        vertical-align: middle;\n",
       "    }\n",
       "\n",
       "    .dataframe tbody tr th {\n",
       "        vertical-align: top;\n",
       "    }\n",
       "\n",
       "    .dataframe thead th {\n",
       "        text-align: right;\n",
       "    }\n",
       "</style>\n",
       "<table border=\"1\" class=\"dataframe\">\n",
       "  <thead>\n",
       "    <tr style=\"text-align: right;\">\n",
       "      <th></th>\n",
       "      <th>Unnamed: 0</th>\n",
       "      <th>timestamp</th>\n",
       "      <th>temp</th>\n",
       "      <th>humidity</th>\n",
       "      <th>windgust</th>\n",
       "      <th>cloudcover</th>\n",
       "      <th>visibility</th>\n",
       "      <th>solarradiation</th>\n",
       "      <th>conditions</th>\n",
       "      <th>solarenergy</th>\n",
       "      <th>Solar_Generation</th>\n",
       "      <th>Adjusted_Generation</th>\n",
       "    </tr>\n",
       "  </thead>\n",
       "  <tbody>\n",
       "    <tr>\n",
       "      <th>20854</th>\n",
       "      <td>21054</td>\n",
       "      <td>2024-08-25 06:00:00</td>\n",
       "      <td>26.0</td>\n",
       "      <td>93.95</td>\n",
       "      <td>4.3</td>\n",
       "      <td>50.5</td>\n",
       "      <td>6.0</td>\n",
       "      <td>0.0</td>\n",
       "      <td>Partially cloudy</td>\n",
       "      <td>0.0</td>\n",
       "      <td>0.000000</td>\n",
       "      <td>0.000000</td>\n",
       "    </tr>\n",
       "    <tr>\n",
       "      <th>20855</th>\n",
       "      <td>21055</td>\n",
       "      <td>2024-08-25 07:00:00</td>\n",
       "      <td>27.0</td>\n",
       "      <td>88.66</td>\n",
       "      <td>5.7</td>\n",
       "      <td>90.0</td>\n",
       "      <td>6.0</td>\n",
       "      <td>6.9</td>\n",
       "      <td>Partially cloudy</td>\n",
       "      <td>0.0</td>\n",
       "      <td>0.000000</td>\n",
       "      <td>0.000000</td>\n",
       "    </tr>\n",
       "    <tr>\n",
       "      <th>20856</th>\n",
       "      <td>21056</td>\n",
       "      <td>2024-08-25 08:00:00</td>\n",
       "      <td>28.6</td>\n",
       "      <td>79.57</td>\n",
       "      <td>7.3</td>\n",
       "      <td>89.8</td>\n",
       "      <td>9.3</td>\n",
       "      <td>99.0</td>\n",
       "      <td>Rain, Partially cloudy</td>\n",
       "      <td>0.4</td>\n",
       "      <td>6.666672</td>\n",
       "      <td>3.038174</td>\n",
       "    </tr>\n",
       "    <tr>\n",
       "      <th>20857</th>\n",
       "      <td>21057</td>\n",
       "      <td>2024-08-25 09:00:00</td>\n",
       "      <td>29.1</td>\n",
       "      <td>69.54</td>\n",
       "      <td>14.1</td>\n",
       "      <td>100.0</td>\n",
       "      <td>8.0</td>\n",
       "      <td>310.9</td>\n",
       "      <td>Overcast</td>\n",
       "      <td>1.1</td>\n",
       "      <td>18.333348</td>\n",
       "      <td>8.804739</td>\n",
       "    </tr>\n",
       "    <tr>\n",
       "      <th>20858</th>\n",
       "      <td>21058</td>\n",
       "      <td>2024-08-25 10:00:00</td>\n",
       "      <td>30.9</td>\n",
       "      <td>70.34</td>\n",
       "      <td>18.5</td>\n",
       "      <td>50.0</td>\n",
       "      <td>10.0</td>\n",
       "      <td>530.1</td>\n",
       "      <td>Partially cloudy</td>\n",
       "      <td>1.9</td>\n",
       "      <td>31.666692</td>\n",
       "      <td>18.441195</td>\n",
       "    </tr>\n",
       "    <tr>\n",
       "      <th>...</th>\n",
       "      <td>...</td>\n",
       "      <td>...</td>\n",
       "      <td>...</td>\n",
       "      <td>...</td>\n",
       "      <td>...</td>\n",
       "      <td>...</td>\n",
       "      <td>...</td>\n",
       "      <td>...</td>\n",
       "      <td>...</td>\n",
       "      <td>...</td>\n",
       "      <td>...</td>\n",
       "      <td>...</td>\n",
       "    </tr>\n",
       "    <tr>\n",
       "      <th>26123</th>\n",
       "      <td>26323</td>\n",
       "      <td>2025-04-01 19:00:00</td>\n",
       "      <td>29.6</td>\n",
       "      <td>67.09</td>\n",
       "      <td>8.2</td>\n",
       "      <td>50.0</td>\n",
       "      <td>10.0</td>\n",
       "      <td>25.4</td>\n",
       "      <td>Partially cloudy</td>\n",
       "      <td>0.1</td>\n",
       "      <td>1.666668</td>\n",
       "      <td>0.935114</td>\n",
       "    </tr>\n",
       "    <tr>\n",
       "      <th>26124</th>\n",
       "      <td>26324</td>\n",
       "      <td>2025-04-01 20:00:00</td>\n",
       "      <td>30.4</td>\n",
       "      <td>70.14</td>\n",
       "      <td>6.7</td>\n",
       "      <td>88.4</td>\n",
       "      <td>12.9</td>\n",
       "      <td>0.0</td>\n",
       "      <td>Partially cloudy</td>\n",
       "      <td>0.0</td>\n",
       "      <td>0.000000</td>\n",
       "      <td>0.000000</td>\n",
       "    </tr>\n",
       "    <tr>\n",
       "      <th>26125</th>\n",
       "      <td>26325</td>\n",
       "      <td>2025-04-01 21:00:00</td>\n",
       "      <td>29.5</td>\n",
       "      <td>67.45</td>\n",
       "      <td>7.8</td>\n",
       "      <td>50.0</td>\n",
       "      <td>10.0</td>\n",
       "      <td>0.0</td>\n",
       "      <td>Partially cloudy</td>\n",
       "      <td>0.0</td>\n",
       "      <td>0.000000</td>\n",
       "      <td>0.000000</td>\n",
       "    </tr>\n",
       "    <tr>\n",
       "      <th>26126</th>\n",
       "      <td>26326</td>\n",
       "      <td>2025-04-01 22:00:00</td>\n",
       "      <td>29.0</td>\n",
       "      <td>70.49</td>\n",
       "      <td>5.7</td>\n",
       "      <td>90.0</td>\n",
       "      <td>10.0</td>\n",
       "      <td>0.0</td>\n",
       "      <td>Partially cloudy</td>\n",
       "      <td>0.0</td>\n",
       "      <td>0.000000</td>\n",
       "      <td>0.000000</td>\n",
       "    </tr>\n",
       "    <tr>\n",
       "      <th>26127</th>\n",
       "      <td>26327</td>\n",
       "      <td>2025-04-01 23:00:00</td>\n",
       "      <td>29.0</td>\n",
       "      <td>77.94</td>\n",
       "      <td>7.2</td>\n",
       "      <td>50.6</td>\n",
       "      <td>12.8</td>\n",
       "      <td>0.0</td>\n",
       "      <td>Partially cloudy</td>\n",
       "      <td>0.0</td>\n",
       "      <td>0.000000</td>\n",
       "      <td>0.000000</td>\n",
       "    </tr>\n",
       "  </tbody>\n",
       "</table>\n",
       "<p>5274 rows × 12 columns</p>\n",
       "</div>"
      ],
      "text/plain": [
       "       Unnamed: 0           timestamp  temp  humidity  windgust  cloudcover  \\\n",
       "20854       21054 2024-08-25 06:00:00  26.0     93.95       4.3        50.5   \n",
       "20855       21055 2024-08-25 07:00:00  27.0     88.66       5.7        90.0   \n",
       "20856       21056 2024-08-25 08:00:00  28.6     79.57       7.3        89.8   \n",
       "20857       21057 2024-08-25 09:00:00  29.1     69.54      14.1       100.0   \n",
       "20858       21058 2024-08-25 10:00:00  30.9     70.34      18.5        50.0   \n",
       "...           ...                 ...   ...       ...       ...         ...   \n",
       "26123       26323 2025-04-01 19:00:00  29.6     67.09       8.2        50.0   \n",
       "26124       26324 2025-04-01 20:00:00  30.4     70.14       6.7        88.4   \n",
       "26125       26325 2025-04-01 21:00:00  29.5     67.45       7.8        50.0   \n",
       "26126       26326 2025-04-01 22:00:00  29.0     70.49       5.7        90.0   \n",
       "26127       26327 2025-04-01 23:00:00  29.0     77.94       7.2        50.6   \n",
       "\n",
       "       visibility  solarradiation              conditions  solarenergy  \\\n",
       "20854         6.0             0.0        Partially cloudy          0.0   \n",
       "20855         6.0             6.9        Partially cloudy          0.0   \n",
       "20856         9.3            99.0  Rain, Partially cloudy          0.4   \n",
       "20857         8.0           310.9                Overcast          1.1   \n",
       "20858        10.0           530.1        Partially cloudy          1.9   \n",
       "...           ...             ...                     ...          ...   \n",
       "26123        10.0            25.4        Partially cloudy          0.1   \n",
       "26124        12.9             0.0        Partially cloudy          0.0   \n",
       "26125        10.0             0.0        Partially cloudy          0.0   \n",
       "26126        10.0             0.0        Partially cloudy          0.0   \n",
       "26127        12.8             0.0        Partially cloudy          0.0   \n",
       "\n",
       "       Solar_Generation  Adjusted_Generation  \n",
       "20854          0.000000             0.000000  \n",
       "20855          0.000000             0.000000  \n",
       "20856          6.666672             3.038174  \n",
       "20857         18.333348             8.804739  \n",
       "20858         31.666692            18.441195  \n",
       "...                 ...                  ...  \n",
       "26123          1.666668             0.935114  \n",
       "26124          0.000000             0.000000  \n",
       "26125          0.000000             0.000000  \n",
       "26126          0.000000             0.000000  \n",
       "26127          0.000000             0.000000  \n",
       "\n",
       "[5274 rows x 12 columns]"
      ]
     },
     "execution_count": 6,
     "metadata": {},
     "output_type": "execute_result"
    }
   ],
   "source": [
    "test_data"
   ]
  },
  {
   "cell_type": "code",
   "execution_count": 7,
   "id": "f7c8a3e6",
   "metadata": {},
   "outputs": [
    {
     "name": "stderr",
     "output_type": "stream",
     "text": [
      "/var/folders/9z/jhl761ys4zxdmlymdmcfs3jm0000gn/T/ipykernel_96893/2729199694.py:4: SettingWithCopyWarning: \n",
      "A value is trying to be set on a copy of a slice from a DataFrame.\n",
      "Try using .loc[row_indexer,col_indexer] = value instead\n",
      "\n",
      "See the caveats in the documentation: https://pandas.pydata.org/pandas-docs/stable/user_guide/indexing.html#returning-a-view-versus-a-copy\n",
      "  test_data['Adjusted_Generation'] = genScaler.fit_transform(test_data[['Adjusted_Generation']])\n",
      "/var/folders/9z/jhl761ys4zxdmlymdmcfs3jm0000gn/T/ipykernel_96893/2729199694.py:5: SettingWithCopyWarning: \n",
      "A value is trying to be set on a copy of a slice from a DataFrame.\n",
      "Try using .loc[row_indexer,col_indexer] = value instead\n",
      "\n",
      "See the caveats in the documentation: https://pandas.pydata.org/pandas-docs/stable/user_guide/indexing.html#returning-a-view-versus-a-copy\n",
      "  test_data['solarradiation'] = irrScaler.fit_transform(test_data[['solarradiation']])\n"
     ]
    }
   ],
   "source": [
    "from sklearn.preprocessing import MinMaxScaler\n",
    "genScaler = MinMaxScaler()\n",
    "irrScaler = MinMaxScaler()\n",
    "test_data['Adjusted_Generation'] = genScaler.fit_transform(test_data[['Adjusted_Generation']])\n",
    "test_data['solarradiation'] = irrScaler.fit_transform(test_data[['solarradiation']])"
   ]
  },
  {
   "cell_type": "code",
   "execution_count": 11,
   "id": "a9eabf11",
   "metadata": {},
   "outputs": [],
   "source": [
    "x,y = dataSequence(test_data,49,1,1)"
   ]
  },
  {
   "cell_type": "code",
   "execution_count": 12,
   "id": "eaaacecc",
   "metadata": {},
   "outputs": [
    {
     "data": {
      "text/plain": [
       "array([[0.        , 0.        , 0.05274279, 0.15285051, 0.32013966,\n",
       "        0.33553579, 0.47496096, 0.47632806, 0.47609124, 0.49023335,\n",
       "        0.37425002, 0.23579049, 0.12204021, 0.01372581, 0.        ,\n",
       "        0.        , 0.        , 0.        , 0.        , 0.        ,\n",
       "        0.        , 0.        , 0.        , 0.        , 0.        ,\n",
       "        0.        , 0.10573407, 0.19771599, 0.2885728 , 0.37601766,\n",
       "        0.50404315, 0.57366922, 0.54513732, 0.49472772, 0.51105111,\n",
       "        0.22002656, 0.14212032, 0.01636989, 0.        , 0.        ,\n",
       "        0.        , 0.        , 0.        , 0.        , 0.        ,\n",
       "        0.        , 0.        , 0.        ],\n",
       "       [0.        , 0.00684796, 0.09825328, 0.30855498, 0.52610163,\n",
       "        0.63834855, 0.77878126, 0.76697102, 0.76528384, 0.78791187,\n",
       "        0.59825328, 0.38785232, 0.16980945, 0.03791187, 0.        ,\n",
       "        0.        , 0.        , 0.        , 0.        , 0.        ,\n",
       "        0.        , 0.        , 0.        , 0.        , 0.        ,\n",
       "        0.00724494, 0.12981342, 0.3361453 , 0.46119492, 0.68449782,\n",
       "        0.82761016, 0.92963478, 0.87485113, 0.80547836, 0.66325923,\n",
       "        0.44462088, 0.19789599, 0.03830885, 0.        , 0.        ,\n",
       "        0.        , 0.        , 0.        , 0.        , 0.        ,\n",
       "        0.        , 0.        , 0.        ]])"
      ]
     },
     "execution_count": 12,
     "metadata": {},
     "output_type": "execute_result"
    }
   ],
   "source": [
    "x[0]\n"
   ]
  },
  {
   "cell_type": "code",
   "execution_count": 18,
   "id": "66103537",
   "metadata": {},
   "outputs": [
    {
     "name": "stdout",
     "output_type": "stream",
     "text": [
      "164/164 [==============================] - 1s 1ms/step\n",
      "MSE :7.337536865366265\n",
      "MAE :1.4685129388107003\n",
      "R2 :0.9335574390572351\n",
      "MAPE :0.6346072276014723\n"
     ]
    }
   ],
   "source": [
    "from sklearn.metrics import mean_squared_error,mean_absolute_error,mean_absolute_percentage_error,r2_score\n",
    "pred = LSTMModel.predict(x).flatten()\n",
    "pred_ns = genScaler.inverse_transform([pred]).flatten()\n",
    "\n",
    "mae = mean_absolute_error(pred_ns,genScaler.inverse_transform(y).flatten())\n",
    "mse = mean_squared_error(pred_ns,genScaler.inverse_transform(y).flatten())\n",
    "mape = mean_absolute_percentage_error(pred_ns,genScaler.inverse_transform(y).flatten())\n",
    "r2 = r2_score(pred_ns,genScaler.inverse_transform(y).flatten())\n",
    "\n",
    "print(\"MSE :\" + str(mse))\n",
    "print(\"MAE :\" + str(mae))\n",
    "print(\"R2 :\" + str(r2))\n",
    "print(\"MAPE :\" + str(mape))"
   ]
  },
  {
   "cell_type": "code",
   "execution_count": 19,
   "id": "ec180828",
   "metadata": {},
   "outputs": [],
   "source": [
    "df_results = pd.DataFrame({'Predicted_Generation': pred_ns, 'Actual_Generation': genScaler.inverse_transform(y).flatten()})"
   ]
  },
  {
   "cell_type": "code",
   "execution_count": 20,
   "id": "89cedf64",
   "metadata": {},
   "outputs": [
    {
     "data": {
      "text/html": [
       "<div>\n",
       "<style scoped>\n",
       "    .dataframe tbody tr th:only-of-type {\n",
       "        vertical-align: middle;\n",
       "    }\n",
       "\n",
       "    .dataframe tbody tr th {\n",
       "        vertical-align: top;\n",
       "    }\n",
       "\n",
       "    .dataframe thead th {\n",
       "        text-align: right;\n",
       "    }\n",
       "</style>\n",
       "<table border=\"1\" class=\"dataframe\">\n",
       "  <thead>\n",
       "    <tr style=\"text-align: right;\">\n",
       "      <th></th>\n",
       "      <th>Predicted_Generation</th>\n",
       "      <th>Actual_Generation</th>\n",
       "    </tr>\n",
       "  </thead>\n",
       "  <tbody>\n",
       "    <tr>\n",
       "      <th>0</th>\n",
       "      <td>0.185409</td>\n",
       "      <td>0.000000</td>\n",
       "    </tr>\n",
       "    <tr>\n",
       "      <th>1</th>\n",
       "      <td>0.284666</td>\n",
       "      <td>0.000000</td>\n",
       "    </tr>\n",
       "    <tr>\n",
       "      <th>2</th>\n",
       "      <td>3.282054</td>\n",
       "      <td>3.500873</td>\n",
       "    </tr>\n",
       "    <tr>\n",
       "      <th>3</th>\n",
       "      <td>13.282102</td>\n",
       "      <td>11.757605</td>\n",
       "    </tr>\n",
       "    <tr>\n",
       "      <th>4</th>\n",
       "      <td>20.759627</td>\n",
       "      <td>18.373552</td>\n",
       "    </tr>\n",
       "    <tr>\n",
       "      <th>...</th>\n",
       "      <td>...</td>\n",
       "      <td>...</td>\n",
       "    </tr>\n",
       "    <tr>\n",
       "      <th>5220</th>\n",
       "      <td>4.510051</td>\n",
       "      <td>5.989903</td>\n",
       "    </tr>\n",
       "    <tr>\n",
       "      <th>5221</th>\n",
       "      <td>0.815031</td>\n",
       "      <td>0.935114</td>\n",
       "    </tr>\n",
       "    <tr>\n",
       "      <th>5222</th>\n",
       "      <td>0.208278</td>\n",
       "      <td>0.000000</td>\n",
       "    </tr>\n",
       "    <tr>\n",
       "      <th>5223</th>\n",
       "      <td>0.158897</td>\n",
       "      <td>0.000000</td>\n",
       "    </tr>\n",
       "    <tr>\n",
       "      <th>5224</th>\n",
       "      <td>0.204874</td>\n",
       "      <td>0.000000</td>\n",
       "    </tr>\n",
       "  </tbody>\n",
       "</table>\n",
       "<p>5225 rows × 2 columns</p>\n",
       "</div>"
      ],
      "text/plain": [
       "      Predicted_Generation  Actual_Generation\n",
       "0                 0.185409           0.000000\n",
       "1                 0.284666           0.000000\n",
       "2                 3.282054           3.500873\n",
       "3                13.282102          11.757605\n",
       "4                20.759627          18.373552\n",
       "...                    ...                ...\n",
       "5220              4.510051           5.989903\n",
       "5221              0.815031           0.935114\n",
       "5222              0.208278           0.000000\n",
       "5223              0.158897           0.000000\n",
       "5224              0.204874           0.000000\n",
       "\n",
       "[5225 rows x 2 columns]"
      ]
     },
     "execution_count": 20,
     "metadata": {},
     "output_type": "execute_result"
    }
   ],
   "source": [
    "df_results"
   ]
  },
  {
   "cell_type": "code",
   "execution_count": 21,
   "id": "66be905d",
   "metadata": {},
   "outputs": [
    {
     "data": {
      "text/plain": [
       "<matplotlib.legend.Legend at 0x316fd12a0>"
      ]
     },
     "execution_count": 21,
     "metadata": {},
     "output_type": "execute_result"
    },
    {
     "data": {
      "image/png": "[encoded data removed]",
      "text/plain": [
       "<Figure size 1500x500 with 1 Axes>"
      ]
     },
     "metadata": {},
     "output_type": "display_data"
    }
   ],
   "source": [
    "import matplotlib.pyplot as plt\n",
    "plt.figure(figsize=(15,5))\n",
    "plt.plot(df_results['Predicted_Generation'].values[:24],label = 'Predictions')\n",
    "plt.plot(df_results['Actual_Generation'].values[:24],label = 'Actual')\n",
    "plt.title('Model evaluaton for Solar forecasting')\n",
    "plt.legend()"
   ]
  },
  {
   "cell_type": "code",
   "execution_count": 22,
   "id": "5a594047",
   "metadata": {},
   "outputs": [],
   "source": [
    "df_results.to_excel('Results_LSTM.xlsx')"
   ]
  },
  {
   "cell_type": "markdown",
   "id": "9d57ad89",
   "metadata": {},
   "source": [
    "Develop neural network to concatanate the two model predictions"
   ]
  },
  {
   "cell_type": "code",
   "execution_count": null,
   "id": "15ac792e",
   "metadata": {},
   "outputs": [],
   "source": []
  },
  {
   "cell_type": "code",
   "execution_count": null,
   "id": "dc72e7b0",
   "metadata": {},
   "outputs": [],
   "source": []
  },
  {
   "cell_type": "code",
   "execution_count": null,
   "id": "a10d8f85",
   "metadata": {},
   "outputs": [],
   "source": []
  }
 ],
 "metadata": {
  "kernelspec": {
   "display_name": "py310",
   "language": "python",
   "name": "python3"
  },
  "language_info": {
   "codemirror_mode": {
    "name": "ipython",
    "version": 3
   },
   "file_extension": ".py",
   "mimetype": "text/x-python",
   "name": "python",
   "nbconvert_exporter": "python",
   "pygments_lexer": "ipython3",
   "version": "3.10.13"
  }
 },
 "nbformat": 4,
 "nbformat_minor": 5
}
